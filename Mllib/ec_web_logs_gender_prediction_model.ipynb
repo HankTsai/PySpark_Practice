{
 "cells": [
  {
   "cell_type": "code",
   "execution_count": null,
   "metadata": {},
   "outputs": [],
   "source": [
    "from pyspark.sql import SparkSession\n",
    "from pyspark.sql.functions import isnull\n",
    "from pyspark.ml.feature import VectorAssembler, VectorIndexer, OneHotEncoder, StringIndexer\n",
    "from pyspark.ml.classification import RandomForestClassifier, RandomForestClassificationModel\n",
    "from pyspark.ml.evaluation import MulticlassClassificationEvaluator"
   ]
  },
  {
   "cell_type": "code",
   "execution_count": null,
   "metadata": {},
   "outputs": [],
   "source": [
    "spark"
   ]
  },
  {
   "cell_type": "code",
   "execution_count": null,
   "metadata": {},
   "outputs": [],
   "source": [
    "sc"
   ]
  },
  {
   "cell_type": "code",
   "execution_count": null,
   "metadata": {},
   "outputs": [],
   "source": [
    "# Prepare data\n",
    "logs = spark.read.parquet(\"hdfs://devenv/user/spark/spark_mllib_101/ec_web_logs_analysis/data/\")"
   ]
  },
  {
   "cell_type": "code",
   "execution_count": null,
   "metadata": {},
   "outputs": [],
   "source": [
    "# Preprocessing and feature engineering\n",
    "feature_prep = logs.select(\"product_category_id\", \"device_type\", \"connect_type\", \"gender\") \\\n",
    "                   .where(~isnull(\"gender\"))\n",
    "\n",
    "final_data = VectorAssembler(inputCols=[\"product_category_id\", \"device_type\", \"connect_type\"],\n",
    "                             outputCol=\"features\").transform(feature_prep)"
   ]
  },
  {
   "cell_type": "code",
   "execution_count": null,
   "metadata": {},
   "outputs": [],
   "source": [
    "# Split data into train and test sets\n",
    "train_data, test_data = final_data.randomSplit([0.7, 0.3])"
   ]
  },
  {
   "cell_type": "code",
   "execution_count": null,
   "metadata": {},
   "outputs": [],
   "source": [
    "# Model training\n",
    "classifier = RandomForestClassifier(featuresCol=\"features\", labelCol=\"gender\", numTrees=10, maxDepth=10)\n",
    "model = classifier.fit(train_data)"
   ]
  },
  {
   "cell_type": "code",
   "execution_count": null,
   "metadata": {},
   "outputs": [],
   "source": [
    "# Transform the test data using the model to get predictions\n",
    "predicted_test_data = model.transform(test_data)"
   ]
  },
  {
   "cell_type": "code",
   "execution_count": null,
   "metadata": {},
   "outputs": [],
   "source": [
    "# Evaluate the model performance\n",
    "evaluator_accuracy = MulticlassClassificationEvaluator(labelCol='gender',\n",
    "                                                       predictionCol='prediction',\n",
    "                                                       metricName='accuracy')\n",
    "print(\"Accuracy: {}\", evaluator_accuracy.evaluate(predicted_test_data))"
   ]
  },
  {
   "cell_type": "code",
   "execution_count": null,
   "metadata": {},
   "outputs": [],
   "source": [
    "confusion_matrix_info = predicted_test_data.select(\"gender\", \"prediction\")\\\n",
    "                                           .groupBy(\"gender\", \"prediction\")\\\n",
    "                                           .count()\n",
    "\n",
    "confusion_matrix_info.orderBy(\"gender\", \"prediction\").show()\n",
    "confusion_matrix_info.orderBy(\"prediction\", \"gender\").show()"
   ]
  },
  {
   "cell_type": "code",
   "execution_count": null,
   "metadata": {},
   "outputs": [],
   "source": [
    "# Save the model\n",
    "model.save(\"hdfs://devenv/user/spark/spark_mllib_101/ec_web_logs_analysis/model_gender_prediction/\")\n",
    "\n",
    "# +------+----------+                                                             \n",
    "# |gender|prediction|\n",
    "# +------+----------+\n",
    "# |     1|       1.0|\n",
    "# |     0|       0.0|\n",
    "# +------+----------+"
   ]
  },
  {
   "cell_type": "code",
   "execution_count": null,
   "metadata": {},
   "outputs": [],
   "source": []
  }
 ],
 "metadata": {
  "kernelspec": {
   "display_name": "Python 3",
   "language": "python",
   "name": "python3"
  },
  "language_info": {
   "codemirror_mode": {
    "name": "ipython",
    "version": 3
   },
   "file_extension": ".py",
   "mimetype": "text/x-python",
   "name": "python",
   "nbconvert_exporter": "python",
   "pygments_lexer": "ipython3",
   "version": "3.7.6"
  }
 },
 "nbformat": 4,
 "nbformat_minor": 4
}
